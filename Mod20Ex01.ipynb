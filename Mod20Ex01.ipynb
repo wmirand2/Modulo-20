{
 "cells": [
  {
   "cell_type": "markdown",
   "id": "eaf3ccb6",
   "metadata": {},
   "source": [
    "**$\\large\\color{MidnightBlue}{\\textsf{Fórmula de Bhaskara}}$**"
   ]
  },
  {
   "cell_type": "markdown",
   "id": "b6ed5d30",
   "metadata": {},
   "source": [
    "A solução para uma função de segundo grau depende das suas raízes (valores de x). Como já vimos, os coeficientes \n",
    "precisam ser números reais e o angular diferente de zero. Sendo assim, temos a seguinte fóruma de Bhaskara:"
   ]
  },
  {
   "cell_type": "markdown",
   "id": "6eb3ef97",
   "metadata": {},
   "source": [
    "$${\\huge x = \\frac{-b \\pm \\sqrt{b^2 - 4.a.c}}{2.a}}$$ <br>\n",
    "\n",
    "$$ Fórmula\\ de\\ Bhaskara. $$"
   ]
  },
  {
   "cell_type": "markdown",
   "id": "97fbc8c1",
   "metadata": {},
   "source": [
    "Para melhor compreensão o seu cálculo é dividido em duas partes: discriminante da equação e operações para determinar raízes"
   ]
  },
  {
   "cell_type": "markdown",
   "id": "337b8480",
   "metadata": {},
   "source": [
    "**Discriminante**"
   ]
  },
  {
   "cell_type": "markdown",
   "id": "d1ab0e5f",
   "metadata": {},
   "source": [
    "A fugura dentro de raiz na fórmula de Bhaskara é nomeada de discriminantes. Seu símbolo é a letra grega delta e apresenta a determinada fórmula:"
   ]
  },
  {
   "cell_type": "markdown",
   "id": "3482bbc3",
   "metadata": {},
   "source": [
    "$${\\huge \\Delta = b^2 - 4.a.c}$$ <br>\n",
    "$$ Fórmula\\ discriminante. $$"
   ]
  },
  {
   "cell_type": "markdown",
   "id": "ecccc032",
   "metadata": {},
   "source": [
    "- Se o delta for maior que zero, a equação terá dois valores reais e distintos.\n",
    "- Se o delta for igual a zero, a equação terá somente um valor real ou dois resultados iguais.\n",
    "- Se o delta for menor que zero, a equação não possuirá valores reais."
   ]
  }
 ],
 "metadata": {
  "kernelspec": {
   "display_name": "Python 3 (ipykernel)",
   "language": "python",
   "name": "python3"
  },
  "language_info": {
   "codemirror_mode": {
    "name": "ipython",
    "version": 3
   },
   "file_extension": ".py",
   "mimetype": "text/x-python",
   "name": "python",
   "nbconvert_exporter": "python",
   "pygments_lexer": "ipython3",
   "version": "3.11.5"
  }
 },
 "nbformat": 4,
 "nbformat_minor": 5
}
